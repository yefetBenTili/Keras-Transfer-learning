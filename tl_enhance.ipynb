{
 "cells": [
  {
   "cell_type": "code",
   "execution_count": 1,
   "metadata": {},
   "outputs": [
    {
     "name": "stderr",
     "output_type": "stream",
     "text": [
      "Using TensorFlow backend.\n"
     ]
    }
   ],
   "source": [
    "#importing required libraries\n",
    "\n",
    "import numpy as np\n",
    "\n",
    "from keras.applications import VGG16\n",
    "from keras.applications.vgg16 import preprocess_input\n",
    "from keras.preprocessing.image import ImageDataGenerator"
   ]
  },
  {
   "cell_type": "code",
   "execution_count": 3,
   "metadata": {},
   "outputs": [
    {
     "name": "stdout",
     "output_type": "stream",
     "text": [
      "Found 2000 images belonging to 2 classes.\n"
     ]
    }
   ],
   "source": [
    "# image data generator\n",
    "\n",
    "train_datagen = ImageDataGenerator(rescale=1./255.,\n",
    "                                  rotation_range=40,\n",
    "                                  width_shift_range=0.2,\n",
    "                                  height_shift_range=0.2,\n",
    "                                  shear_range=0.2,\n",
    "                                  zoom_range=0.2,\n",
    "                                  horizontal_flip=True,\n",
    "                                  fill_mode=\"nearest\",\n",
    "                                  preprocessing_function=preprocess_input)\n",
    "\n",
    "train_generator=train_datagen.flow_from_directory(\"dog vs cat/dataset/train\",\n",
    "                                                 target_size=(150,150),\n",
    "                                                 color_mode=\"rgb\",\n",
    "                                                 batch_size=16,\n",
    "                                                 class_mode=\"categorical\")"
   ]
  },
  {
   "cell_type": "code",
   "execution_count": 5,
   "metadata": {},
   "outputs": [
    {
     "name": "stdout",
     "output_type": "stream",
     "text": [
      "Found 2000 images belonging to 2 classes.\n"
     ]
    }
   ],
   "source": [
    "valid_datagen = ImageDataGenerator(rescale=1./255.,\n",
    "                                  preprocessing_function=preprocess_input)\n",
    "\n",
    "valid_generator = valid_datagen.flow_from_directory(\"dog vs cat/dataset/valid\",\n",
    "                                                 target_size=(150,150),\n",
    "                                                 color_mode=\"rgb\",\n",
    "                                                 batch_size=16,\n",
    "                                                 class_mode=\"categorical\")"
   ]
  },
  {
   "cell_type": "markdown",
   "metadata": {},
   "source": [
    "## Model"
   ]
  },
  {
   "cell_type": "code",
   "execution_count": 6,
   "metadata": {},
   "outputs": [],
   "source": [
    "from keras.models import Sequential\n",
    "from keras.layers import Dense, Dropout, Flatten"
   ]
  },
  {
   "cell_type": "code",
   "execution_count": 8,
   "metadata": {},
   "outputs": [],
   "source": [
    "base_model = VGG16(weights=\"imagenet\", include_top=False, input_shape=(150,150,3))"
   ]
  },
  {
   "cell_type": "code",
   "execution_count": 9,
   "metadata": {},
   "outputs": [],
   "source": [
    "model_tl = Sequential()\n",
    "model_tl.add(base_model)\n",
    "model_tl.add(Flatten())\n",
    "\n",
    "model_tl.add(Dense(256, activation=\"relu\"))\n",
    "model_tl.add(Dropout(0.5))\n",
    "model_tl.add(Dense(128, activation=\"relu\"))\n",
    "\n",
    "model_tl.add(Dense(2, activation=\"softmax\"))"
   ]
  },
  {
   "cell_type": "code",
   "execution_count": 10,
   "metadata": {},
   "outputs": [
    {
     "name": "stdout",
     "output_type": "stream",
     "text": [
      "_________________________________________________________________\n",
      "Layer (type)                 Output Shape              Param #   \n",
      "=================================================================\n",
      "vgg16 (Model)                (None, 4, 4, 512)         14714688  \n",
      "_________________________________________________________________\n",
      "flatten_1 (Flatten)          (None, 8192)              0         \n",
      "_________________________________________________________________\n",
      "dense_1 (Dense)              (None, 256)               2097408   \n",
      "_________________________________________________________________\n",
      "dropout_1 (Dropout)          (None, 256)               0         \n",
      "_________________________________________________________________\n",
      "dense_2 (Dense)              (None, 128)               32896     \n",
      "_________________________________________________________________\n",
      "dense_3 (Dense)              (None, 2)                 258       \n",
      "=================================================================\n",
      "Total params: 16,845,250\n",
      "Trainable params: 16,845,250\n",
      "Non-trainable params: 0\n",
      "_________________________________________________________________\n"
     ]
    }
   ],
   "source": [
    "model_tl.summary()"
   ]
  },
  {
   "cell_type": "code",
   "execution_count": 11,
   "metadata": {},
   "outputs": [],
   "source": [
    "# freeze early layers\n",
    "base_model.trainable = False"
   ]
  },
  {
   "cell_type": "code",
   "execution_count": 12,
   "metadata": {},
   "outputs": [],
   "source": [
    "# optimizer\n",
    "from keras import optimizers\n",
    "opt = optimizers.Adam(lr=0.001)"
   ]
  },
  {
   "cell_type": "code",
   "execution_count": 13,
   "metadata": {},
   "outputs": [],
   "source": [
    "# compiling\n",
    "model_tl.compile(loss=\"categorical_crossentropy\", optimizer=opt, metrics=[\"accuracy\"])"
   ]
  },
  {
   "cell_type": "code",
   "execution_count": 14,
   "metadata": {},
   "outputs": [],
   "source": [
    "step_size_train = train_generator.n//train_generator.batch_size\n",
    "step_size_valid = valid_generator.n//valid_generator.batch_size"
   ]
  },
  {
   "cell_type": "code",
   "execution_count": 15,
   "metadata": {},
   "outputs": [
    {
     "name": "stdout",
     "output_type": "stream",
     "text": [
      "Epoch 1/20\n",
      "125/125 [==============================] - 1025s 8s/step - loss: 0.6079 - acc: 0.7120 - val_loss: 0.3098 - val_acc: 0.8670\n",
      "Epoch 2/20\n",
      "125/125 [==============================] - 1000s 8s/step - loss: 0.4434 - acc: 0.7910 - val_loss: 0.2735 - val_acc: 0.8800\n",
      "Epoch 3/20\n",
      "125/125 [==============================] - 1000s 8s/step - loss: 0.3863 - acc: 0.8320 - val_loss: 0.2893 - val_acc: 0.8715\n",
      "Epoch 4/20\n",
      "125/125 [==============================] - 992s 8s/step - loss: 0.4003 - acc: 0.8135 - val_loss: 0.2612 - val_acc: 0.8845\n",
      "Epoch 5/20\n",
      "125/125 [==============================] - 988s 8s/step - loss: 0.3563 - acc: 0.8380 - val_loss: 0.2763 - val_acc: 0.8880\n",
      "Epoch 6/20\n",
      "125/125 [==============================] - 988s 8s/step - loss: 0.3468 - acc: 0.8410 - val_loss: 0.2869 - val_acc: 0.8810\n",
      "Epoch 7/20\n",
      "125/125 [==============================] - 989s 8s/step - loss: 0.3460 - acc: 0.8395 - val_loss: 0.2562 - val_acc: 0.8970\n",
      "Epoch 8/20\n",
      "125/125 [==============================] - 986s 8s/step - loss: 0.3414 - acc: 0.8500 - val_loss: 0.2741 - val_acc: 0.8855\n",
      "Epoch 9/20\n",
      "125/125 [==============================] - 989s 8s/step - loss: 0.3249 - acc: 0.8555 - val_loss: 0.2486 - val_acc: 0.8960\n",
      "Epoch 10/20\n",
      "125/125 [==============================] - 991s 8s/step - loss: 0.3298 - acc: 0.8580 - val_loss: 0.2688 - val_acc: 0.8945\n",
      "Epoch 11/20\n",
      "125/125 [==============================] - 989s 8s/step - loss: 0.3103 - acc: 0.8685 - val_loss: 0.2383 - val_acc: 0.9005\n",
      "Epoch 12/20\n",
      "125/125 [==============================] - 991s 8s/step - loss: 0.3280 - acc: 0.8550 - val_loss: 0.2399 - val_acc: 0.9020\n",
      "Epoch 13/20\n",
      "125/125 [==============================] - 993s 8s/step - loss: 0.3140 - acc: 0.8605 - val_loss: 0.2392 - val_acc: 0.9010\n",
      "Epoch 14/20\n",
      "125/125 [==============================] - 997s 8s/step - loss: 0.3193 - acc: 0.8565 - val_loss: 0.2842 - val_acc: 0.8740\n",
      "Epoch 15/20\n",
      "125/125 [==============================] - 993s 8s/step - loss: 0.3186 - acc: 0.8555 - val_loss: 0.2806 - val_acc: 0.8785\n",
      "Epoch 16/20\n",
      "125/125 [==============================] - 991s 8s/step - loss: 0.3060 - acc: 0.8605 - val_loss: 0.2580 - val_acc: 0.8950\n",
      "Epoch 17/20\n",
      "125/125 [==============================] - 994s 8s/step - loss: 0.2922 - acc: 0.8655 - val_loss: 0.2360 - val_acc: 0.8980\n",
      "Epoch 18/20\n",
      "125/125 [==============================] - 1137s 9s/step - loss: 0.2953 - acc: 0.8615 - val_loss: 0.2380 - val_acc: 0.8985\n",
      "Epoch 19/20\n",
      "125/125 [==============================] - 1070s 9s/step - loss: 0.2955 - acc: 0.8600 - val_loss: 0.2432 - val_acc: 0.8965\n",
      "Epoch 20/20\n",
      "125/125 [==============================] - 1006s 8s/step - loss: 0.2960 - acc: 0.8675 - val_loss: 0.2327 - val_acc: 0.8975\n"
     ]
    },
    {
     "data": {
      "text/plain": [
       "<keras.callbacks.History at 0x12a94ae80>"
      ]
     },
     "execution_count": 15,
     "metadata": {},
     "output_type": "execute_result"
    }
   ],
   "source": [
    "# training\n",
    "\n",
    "model_tl.fit_generator(\n",
    "        train_generator,\n",
    "        steps_per_epoch=step_size_train,\n",
    "        epochs=20,\n",
    "        validation_data=valid_generator,\n",
    "        validation_steps=step_size_valid)"
   ]
  },
  {
   "cell_type": "code",
   "execution_count": null,
   "metadata": {},
   "outputs": [],
   "source": []
  }
 ],
 "metadata": {
  "kernelspec": {
   "display_name": "Python 3",
   "language": "python",
   "name": "python3"
  },
  "language_info": {
   "codemirror_mode": {
    "name": "ipython",
    "version": 3
   },
   "file_extension": ".py",
   "mimetype": "text/x-python",
   "name": "python",
   "nbconvert_exporter": "python",
   "pygments_lexer": "ipython3",
   "version": "3.6.6"
  }
 },
 "nbformat": 4,
 "nbformat_minor": 2
}
